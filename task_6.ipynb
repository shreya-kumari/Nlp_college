{
 "cells": [
  {
   "cell_type": "code",
   "execution_count": 3,
   "metadata": {},
   "outputs": [],
   "source": [
    "import nltk\n",
    "from nltk.corpus import stopwords \n",
    "from nltk.tokenize import word_tokenize, sent_tokenize"
   ]
  },
  {
   "cell_type": "code",
   "execution_count": 4,
   "metadata": {},
   "outputs": [],
   "source": [
    "sentence = [(\"the\", \"DT\"), (\"little\", \"JJ\"), (\"yellow\", \"JJ\"),(\"dog\", \"NN\"), (\"barked\", \"VBD\"), (\"at\", \"IN\"),  (\"the\", \"DT\"), (\"cat\", \"NN\")]"
   ]
  },
  {
   "cell_type": "code",
   "execution_count": 5,
   "metadata": {},
   "outputs": [],
   "source": [
    "sentence2 = \"Kiran Bedi’s love for education and her determination to elevate India’s status pushed her to study Law at University of Delhi. And in 1993, Kiran Bedi obtained a PhD in Social Sciences from the Indian Institute of Technology, Delhi, and completed her thesis on ‘Drug Abuse and Domestic Violence’.Kiran Bedi was an outstanding student, no doubt, but she was also a great civil servant. Since young, her efforts were diverted towards uplifting the society. To realise her dream, she joined IPS in 1972. In fact, she was the first woman to join IPS, and by doing so, she brought hope and light into the lives of girls and women in the country.At IPS, Kiran Bedi was never deterred by tough assignments. She rose quickly in her career and served as Deputy Inspector General of Police in Mizoram, Advisor to the Lieutenant Governor of Chandigarh, Director General of Narcotics Control Bureau, and Civilian Police Advisor in the United Nations (UN) peacekeeping operations.\""
   ]
  },
  {
   "cell_type": "code",
   "execution_count": 6,
   "metadata": {},
   "outputs": [
    {
     "name": "stdout",
     "output_type": "stream",
     "text": [
      "(S\n",
      "  (NP the/DT little/JJ yellow/JJ dog/NN)\n",
      "  barked/VBD\n",
      "  at/IN\n",
      "  (NP the/DT cat/NN))\n"
     ]
    }
   ],
   "source": [
    "grammar = \"NP: {<DT>?<JJ>*<NN>}\"\n",
    "c = nltk.RegexpParser(grammar)\n",
    "result = c.parse(sentence)\n",
    "print(result)"
   ]
  },
  {
   "cell_type": "code",
   "execution_count": 7,
   "metadata": {},
   "outputs": [],
   "source": [
    "stop_words = set(stopwords.words('english'))"
   ]
  },
  {
   "cell_type": "code",
   "execution_count": 8,
   "metadata": {},
   "outputs": [
    {
     "name": "stdout",
     "output_type": "stream",
     "text": [
      "['Kiran', 'Bedi’s', 'love', 'for', 'education', 'and', 'her', 'determination', 'to', 'elevate', 'India’s', 'status', 'pushed', 'her', 'to', 'study', 'Law', 'at', 'University', 'of', 'Delhi.', 'And', 'in', '1993,', 'Kiran', 'Bedi', 'obtained', 'a', 'PhD', 'in', 'Social', 'Sciences', 'from', 'the', 'Indian', 'Institute', 'of', 'Technology,', 'Delhi,', 'and', 'completed', 'her', 'thesis', 'on', '‘Drug', 'Abuse', 'and', 'Domestic', 'Violence’.Kiran', 'Bedi', 'was', 'an', 'outstanding', 'student,', 'no', 'doubt,', 'but', 'she', 'was', 'also', 'a', 'great', 'civil', 'servant.', 'Since', 'young,', 'her', 'efforts', 'were', 'diverted', 'towards', 'uplifting', 'the', 'society.', 'To', 'realise', 'her', 'dream,', 'she', 'joined', 'IPS', 'in', '1972.', 'In', 'fact,', 'she', 'was', 'the', 'first', 'woman', 'to', 'join', 'IPS,', 'and', 'by', 'doing', 'so,', 'she', 'brought', 'hope', 'and', 'light', 'into', 'the', 'lives', 'of', 'girls', 'and', 'women', 'in', 'the', 'country.At', 'IPS,', 'Kiran', 'Bedi', 'was', 'never', 'deterred', 'by', 'tough', 'assignments.', 'She', 'rose', 'quickly', 'in', 'her', 'career', 'and', 'served', 'as', 'Deputy', 'Inspector', 'General', 'of', 'Police', 'in', 'Mizoram,', 'Advisor', 'to', 'the', 'Lieutenant', 'Governor', 'of', 'Chandigarh,', 'Director', 'General', 'of', 'Narcotics', 'Control', 'Bureau,', 'and', 'Civilian', 'Police', 'Advisor', 'in', 'the', 'United', 'Nations', '(UN)', 'peacekeeping', 'operations.']\n"
     ]
    }
   ],
   "source": [
    "l = list(sentence2.split(\" \")) \n",
    "print(l)"
   ]
  },
  {
   "cell_type": "code",
   "execution_count": 9,
   "metadata": {},
   "outputs": [],
   "source": [
    "tokenized = sent_tokenize(sentence2) \n",
    "for i in tokenized: \n",
    "    wordsList = nltk.word_tokenize(i) \n",
    "    wordsList = [w for w in wordsList if not w in stop_words]   \n",
    "    tagged = nltk.pos_tag(wordsList)"
   ]
  },
  {
   "cell_type": "code",
   "execution_count": 10,
   "metadata": {},
   "outputs": [
    {
     "name": "stdout",
     "output_type": "stream",
     "text": [
      "(S\n",
      "  She/PRP\n",
      "  rose/VBD\n",
      "  quickly/RB\n",
      "  (NP career/NN)\n",
      "  served/VBD\n",
      "  Deputy/NNP\n",
      "  Inspector/NNP\n",
      "  General/NNP\n",
      "  Police/NNP\n",
      "  Mizoram/NNP\n",
      "  ,/,\n",
      "  Advisor/NNP\n",
      "  Lieutenant/NNP\n",
      "  Governor/NNP\n",
      "  Chandigarh/NNP\n",
      "  ,/,\n",
      "  Director/NNP\n",
      "  General/NNP\n",
      "  Narcotics/NNP\n",
      "  Control/NNP\n",
      "  Bureau/NNP\n",
      "  ,/,\n",
      "  Civilian/NNP\n",
      "  Police/NNP\n",
      "  Advisor/NNP\n",
      "  United/NNP\n",
      "  Nations/NNP\n",
      "  (/(\n",
      "  UN/NNP\n",
      "  )/)\n",
      "  peacekeeping/VBG\n",
      "  operations/NNS\n",
      "  ./.)\n"
     ]
    }
   ],
   "source": [
    "grammar = \"NP: {<DT>?<JJ>*<NN>}\"\n",
    "c = nltk.RegexpParser(grammar)\n",
    "result = c.parse(tagged)\n",
    "print(result)"
   ]
  },
  {
   "cell_type": "code",
   "execution_count": 11,
   "metadata": {},
   "outputs": [],
   "source": [
    "stop_words = set(stopwords.words('english'))"
   ]
  },
  {
   "cell_type": "code",
   "execution_count": 13,
   "metadata": {},
   "outputs": [
    {
     "name": "stdout",
     "output_type": "stream",
     "text": [
      "['Kiran Bedi’s love for education and her determination to elevate India’s status pushed her to study Law at University of Delhi', 'And in 1993, Kiran Bedi obtained a PhD in Social Sciences from the Indian Institute of Technology, Delhi, and completed her thesis on ‘Drug Abuse and Domestic Violence’.Kiran Bedi was an outstanding student, no doubt, but she was also a great civil servant', 'Since young, her efforts were diverted towards uplifting the society', 'To realise her dream, she joined IPS in 1972', 'In fact, she was the first woman to join IPS, and by doing so, she brought hope and light into the lives of girls and women in the country.At IPS, Kiran Bedi was never deterred by tough assignments', 'She rose quickly in her career and served as Deputy Inspector General of Police in Mizoram, Advisor to the Lieutenant Governor of Chandigarh, Director General of Narcotics Control Bureau, and Civilian Police Advisor in the United Nations (UN) peacekeeping operations.']\n"
     ]
    }
   ],
   "source": [
    "l = list(sentence2.split(\". \")) \n",
    "print(l)"
   ]
  },
  {
   "cell_type": "code",
   "execution_count": 14,
   "metadata": {},
   "outputs": [
    {
     "name": "stdout",
     "output_type": "stream",
     "text": [
      "(S\n",
      "  Kiran/NNP\n",
      "  Bedi/NNP\n",
      "  ’/NNP\n",
      "  love/VB\n",
      "  (NP education/NN)\n",
      "  (NP determination/NN)\n",
      "  elevate/VBP\n",
      "  India/NNP\n",
      "  ’/NNP\n",
      "  (NP status/NN)\n",
      "  pushed/VBD\n",
      "  (NP study/NN)\n",
      "  Law/NNP\n",
      "  University/NNP\n",
      "  Delhi/NNP)\n",
      "\n",
      "(S\n",
      "  And/CC\n",
      "  1993/CD\n",
      "  ,/,\n",
      "  Kiran/NNP\n",
      "  Bedi/NNP\n",
      "  obtained/VBD\n",
      "  PhD/NNP\n",
      "  Social/NNP\n",
      "  Sciences/NNPS\n",
      "  Indian/NNP\n",
      "  Institute/NNP\n",
      "  Technology/NNP\n",
      "  ,/,\n",
      "  Delhi/NNP\n",
      "  ,/,\n",
      "  completed/VBD\n",
      "  (NP thesis/NN)\n",
      "  ‘/NNP\n",
      "  Drug/NNP\n",
      "  Abuse/NNP\n",
      "  Domestic/NNP\n",
      "  Violence/NNP\n",
      "  ’/NNP\n",
      "  .Kiran/NNP\n",
      "  Bedi/NNP\n",
      "  (NP outstanding/JJ student/NN)\n",
      "  ,/,\n",
      "  (NP doubt/NN)\n",
      "  ,/,\n",
      "  also/RB\n",
      "  (NP great/JJ civil/JJ servant/NN))\n",
      "\n",
      "(S\n",
      "  Since/IN\n",
      "  young/JJ\n",
      "  ,/,\n",
      "  efforts/NNS\n",
      "  diverted/VBD\n",
      "  towards/NNS\n",
      "  uplifting/VBG\n",
      "  (NP society/NN))\n",
      "\n",
      "(S To/TO realise/VB (NP dream/NN) ,/, joined/VBD IPS/NNP 1972/CD)\n",
      "\n",
      "(S\n",
      "  In/IN\n",
      "  (NP fact/NN)\n",
      "  ,/,\n",
      "  (NP first/JJ woman/NN)\n",
      "  (NP join/NN)\n",
      "  IPS/NNP\n",
      "  ,/,\n",
      "  ,/,\n",
      "  brought/VBD\n",
      "  (NP hope/NN)\n",
      "  (NP light/NN)\n",
      "  lives/NNS\n",
      "  girls/NNS\n",
      "  women/NNS\n",
      "  country.At/VBP\n",
      "  IPS/NNP\n",
      "  ,/,\n",
      "  Kiran/NNP\n",
      "  Bedi/NNP\n",
      "  never/RB\n",
      "  deterred/VBD\n",
      "  tough/JJ\n",
      "  assignments/NNS)\n",
      "\n",
      "(S\n",
      "  She/PRP\n",
      "  rose/VBD\n",
      "  quickly/RB\n",
      "  (NP career/NN)\n",
      "  served/VBD\n",
      "  Deputy/NNP\n",
      "  Inspector/NNP\n",
      "  General/NNP\n",
      "  Police/NNP\n",
      "  Mizoram/NNP\n",
      "  ,/,\n",
      "  Advisor/NNP\n",
      "  Lieutenant/NNP\n",
      "  Governor/NNP\n",
      "  Chandigarh/NNP\n",
      "  ,/,\n",
      "  Director/NNP\n",
      "  General/NNP\n",
      "  Narcotics/NNP\n",
      "  Control/NNP\n",
      "  Bureau/NNP\n",
      "  ,/,\n",
      "  Civilian/NNP\n",
      "  Police/NNP\n",
      "  Advisor/NNP\n",
      "  United/NNP\n",
      "  Nations/NNP\n",
      "  (/(\n",
      "  UN/NNP\n",
      "  )/)\n",
      "  peacekeeping/VBG\n",
      "  operations/NNS\n",
      "  ./.)\n",
      "\n"
     ]
    }
   ],
   "source": [
    "\n",
    "for i in range(len(l)):\n",
    "    l1 = l[i].split(\" \")\n",
    "    tokenized = sent_tokenize(l[i]) \n",
    "    for i in tokenized: \n",
    "        wordsList = nltk.word_tokenize(i) \n",
    "        wordsList = [w for w in wordsList if not w in stop_words]   \n",
    "        tagged = nltk.pos_tag(wordsList) \n",
    "    grammar = \"NP: {<DT>?<JJ>*<NN>}\"\n",
    "    c = nltk.RegexpParser(grammar)\n",
    "    result = c.parse(tagged)\n",
    "    print(result)\n",
    "    print()"
   ]
  },
  {
   "cell_type": "code",
   "execution_count": null,
   "metadata": {},
   "outputs": [],
   "source": []
  }
 ],
 "metadata": {
  "kernelspec": {
   "display_name": "Python 3",
   "language": "python",
   "name": "python3"
  },
  "language_info": {
   "codemirror_mode": {
    "name": "ipython",
    "version": 3
   },
   "file_extension": ".py",
   "mimetype": "text/x-python",
   "name": "python",
   "nbconvert_exporter": "python",
   "pygments_lexer": "ipython3",
   "version": "3.8.3"
  }
 },
 "nbformat": 4,
 "nbformat_minor": 4
}
