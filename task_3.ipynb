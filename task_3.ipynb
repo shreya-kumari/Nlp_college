{
 "cells": [
  {
   "cell_type": "code",
   "execution_count": 1,
   "metadata": {},
   "outputs": [
    {
     "name": "stderr",
     "output_type": "stream",
     "text": [
      "[nltk_data] Downloading package punkt to\n",
      "[nltk_data]     C:\\Users\\shrey\\AppData\\Roaming\\nltk_data...\n",
      "[nltk_data]   Package punkt is already up-to-date!\n",
      "[nltk_data] Downloading package averaged_perceptron_tagger to\n",
      "[nltk_data]     C:\\Users\\shrey\\AppData\\Roaming\\nltk_data...\n",
      "[nltk_data]   Unzipping taggers\\averaged_perceptron_tagger.zip.\n"
     ]
    },
    {
     "data": {
      "text/plain": [
       "True"
      ]
     },
     "execution_count": 1,
     "metadata": {},
     "output_type": "execute_result"
    }
   ],
   "source": [
    "import nltk\n",
    "nltk.download('punkt')\n",
    "nltk.download('averaged_perceptron_tagger')"
   ]
  },
  {
   "cell_type": "code",
   "execution_count": 3,
   "metadata": {},
   "outputs": [
    {
     "name": "stdout",
     "output_type": "stream",
     "text": [
      "[('i', 'RB'), ('really', 'RB'), ('like', 'IN'), ('this', 'DT'), ('product', 'NN'), ('this', 'DT'), ('just', 'RB'), ('awesome', 'VB')]\n",
      "[('i', 'RB'), ('really', 'RB'), ('like', 'IN'), ('this', 'DT'), ('product', 'NN'), ('this', 'DT'), ('just', 'RB'), ('awesome', 'VB')]\n",
      "[('i', 'RB'), ('really', 'RB'), ('like', 'IN'), ('this', 'DT'), ('product', 'NN'), ('this', 'DT'), ('just', 'RB'), ('awesome', 'VB')]\n",
      "[('i', 'RB'), ('really', 'RB'), ('like', 'IN'), ('this', 'DT'), ('product', 'NN'), ('this', 'DT'), ('just', 'RB'), ('awesome', 'VB')]\n",
      "[('i', 'RB'), ('really', 'RB'), ('like', 'IN'), ('this', 'DT'), ('product', 'NN'), ('this', 'DT'), ('just', 'RB'), ('awesome', 'VB')]\n",
      "[('i', 'RB'), ('really', 'RB'), ('like', 'IN'), ('this', 'DT'), ('product', 'NN'), ('this', 'DT'), ('just', 'RB'), ('awesome', 'VB')]\n",
      "[('i', 'RB'), ('really', 'RB'), ('like', 'IN'), ('this', 'DT'), ('product', 'NN'), ('this', 'DT'), ('just', 'RB'), ('awesome', 'VB')]\n",
      "[('i', 'RB'), ('really', 'RB'), ('like', 'IN'), ('this', 'DT'), ('product', 'NN'), ('this', 'DT'), ('just', 'RB'), ('awesome', 'VB')]\n",
      "[('i', 'RB'), ('really', 'RB'), ('like', 'IN'), ('this', 'DT'), ('product', 'NN'), ('this', 'DT'), ('just', 'RB'), ('awesome', 'VB')]\n",
      "[('i', 'RB'), ('really', 'RB'), ('like', 'IN'), ('this', 'DT'), ('product', 'NN'), ('this', 'DT'), ('just', 'RB'), ('awesome', 'VB')]\n",
      "[('i', 'RB'), ('really', 'RB'), ('like', 'IN'), ('this', 'DT'), ('product', 'NN'), ('this', 'DT'), ('just', 'RB'), ('awesome', 'VB')]\n",
      "[('i', 'RB'), ('really', 'RB'), ('like', 'IN'), ('this', 'DT'), ('product', 'NN'), ('this', 'DT'), ('just', 'RB'), ('awesome', 'VB')]\n",
      "[('i', 'RB'), ('really', 'RB'), ('like', 'IN'), ('this', 'DT'), ('product', 'NN'), ('this', 'DT'), ('just', 'RB'), ('awesome', 'VB')]\n",
      "[('i', 'RB'), ('really', 'RB'), ('like', 'IN'), ('this', 'DT'), ('product', 'NN'), ('this', 'DT'), ('just', 'RB'), ('awesome', 'VB')]\n",
      "[('i', 'RB'), ('really', 'RB'), ('like', 'IN'), ('this', 'DT'), ('product', 'NN'), ('this', 'DT'), ('just', 'RB'), ('awesome', 'VB')]\n",
      "[('i', 'RB'), ('really', 'RB'), ('like', 'IN'), ('this', 'DT'), ('product', 'NN'), ('this', 'DT'), ('just', 'RB'), ('awesome', 'VB')]\n",
      "[('i', 'RB'), ('really', 'RB'), ('like', 'IN'), ('this', 'DT'), ('product', 'NN'), ('this', 'DT'), ('just', 'RB'), ('awesome', 'VB')]\n",
      "[('i', 'RB'), ('really', 'RB'), ('like', 'IN'), ('this', 'DT'), ('product', 'NN'), ('this', 'DT'), ('just', 'RB'), ('awesome', 'VB')]\n",
      "[('i', 'RB'), ('really', 'RB'), ('like', 'IN'), ('this', 'DT'), ('product', 'NN'), ('this', 'DT'), ('just', 'RB'), ('awesome', 'VB')]\n",
      "[('i', 'RB'), ('really', 'RB'), ('like', 'IN'), ('this', 'DT'), ('product', 'NN'), ('this', 'DT'), ('just', 'RB'), ('awesome', 'VB')]\n",
      "[('i', 'RB'), ('really', 'RB'), ('like', 'IN'), ('this', 'DT'), ('product', 'NN'), ('this', 'DT'), ('just', 'RB'), ('awesome', 'VB')]\n",
      "[('i', 'RB'), ('really', 'RB'), ('like', 'IN'), ('this', 'DT'), ('product', 'NN'), ('this', 'DT'), ('just', 'RB'), ('awesome', 'VB')]\n",
      "[('i', 'RB'), ('really', 'RB'), ('like', 'IN'), ('this', 'DT'), ('product', 'NN'), ('this', 'DT'), ('just', 'RB'), ('awesome', 'VB')]\n",
      "[('i', 'RB'), ('really', 'RB'), ('like', 'IN'), ('this', 'DT'), ('product', 'NN'), ('this', 'DT'), ('just', 'RB'), ('awesome', 'VB')]\n",
      "[('i', 'RB'), ('really', 'RB'), ('like', 'IN'), ('this', 'DT'), ('product', 'NN'), ('this', 'DT'), ('just', 'RB'), ('awesome', 'VB')]\n",
      "[('i', 'RB'), ('really', 'RB'), ('like', 'IN'), ('this', 'DT'), ('product', 'NN'), ('this', 'DT'), ('just', 'RB'), ('awesome', 'VB')]\n",
      "[('i', 'RB'), ('really', 'RB'), ('like', 'IN'), ('this', 'DT'), ('product', 'NN'), ('this', 'DT'), ('just', 'RB'), ('awesome', 'VB')]\n",
      "[('i', 'RB'), ('really', 'RB'), ('like', 'IN'), ('this', 'DT'), ('product', 'NN'), ('this', 'DT'), ('just', 'RB'), ('awesome', 'VB')]\n",
      "[('i', 'RB'), ('really', 'RB'), ('like', 'IN'), ('this', 'DT'), ('product', 'NN'), ('this', 'DT'), ('just', 'RB'), ('awesome', 'VB')]\n",
      "[('i', 'RB'), ('really', 'RB'), ('like', 'IN'), ('this', 'DT'), ('product', 'NN'), ('this', 'DT'), ('just', 'RB'), ('awesome', 'VB')]\n",
      "[('i', 'RB'), ('really', 'RB'), ('like', 'IN'), ('this', 'DT'), ('product', 'NN'), ('this', 'DT'), ('just', 'RB'), ('awesome', 'VB')]\n",
      "[('i', 'RB'), ('really', 'RB'), ('like', 'IN'), ('this', 'DT'), ('product', 'NN'), ('this', 'DT'), ('just', 'RB'), ('awesome', 'VB')]\n",
      "[('i', 'RB'), ('really', 'RB'), ('like', 'IN'), ('this', 'DT'), ('product', 'NN'), ('this', 'DT'), ('just', 'RB'), ('awesome', 'VB')]\n",
      "[('i', 'RB'), ('really', 'RB'), ('like', 'IN'), ('this', 'DT'), ('product', 'NN'), ('this', 'DT'), ('just', 'RB'), ('awesome', 'VB')]\n",
      "[('i', 'RB'), ('really', 'RB'), ('like', 'IN'), ('this', 'DT'), ('product', 'NN'), ('this', 'DT'), ('just', 'RB'), ('awesome', 'VB')]\n",
      "[('i', 'RB'), ('really', 'RB'), ('like', 'IN'), ('this', 'DT'), ('product', 'NN'), ('this', 'DT'), ('just', 'RB'), ('awesome', 'VB')]\n",
      "[('i', 'RB'), ('really', 'RB'), ('like', 'IN'), ('this', 'DT'), ('product', 'NN'), ('this', 'DT'), ('just', 'RB'), ('awesome', 'VB')]\n",
      "[('i', 'RB'), ('really', 'RB'), ('like', 'IN'), ('this', 'DT'), ('product', 'NN'), ('this', 'DT'), ('just', 'RB'), ('awesome', 'VB')]\n",
      "[('i', 'RB'), ('really', 'RB'), ('like', 'IN'), ('this', 'DT'), ('product', 'NN'), ('this', 'DT'), ('just', 'RB'), ('awesome', 'VB')]\n",
      "[('i', 'RB'), ('really', 'RB'), ('like', 'IN'), ('this', 'DT'), ('product', 'NN'), ('this', 'DT'), ('just', 'RB'), ('awesome', 'VB')]\n",
      "[('i', 'RB'), ('really', 'RB'), ('like', 'IN'), ('this', 'DT'), ('product', 'NN'), ('this', 'DT'), ('just', 'RB'), ('awesome', 'VB')]\n",
      "[('i', 'RB'), ('really', 'RB'), ('like', 'IN'), ('this', 'DT'), ('product', 'NN'), ('this', 'DT'), ('just', 'RB'), ('awesome', 'VB')]\n",
      "[('i', 'RB'), ('really', 'RB'), ('like', 'IN'), ('this', 'DT'), ('product', 'NN'), ('this', 'DT'), ('just', 'RB'), ('awesome', 'VB')]\n",
      "[('i', 'RB'), ('really', 'RB'), ('like', 'IN'), ('this', 'DT'), ('product', 'NN'), ('this', 'DT'), ('just', 'RB'), ('awesome', 'VB')]\n"
     ]
    }
   ],
   "source": [
    "texts = \"\"\"i really like this product this just awesome\"\"\"\n",
    "for text in texts:\n",
    "    sentences = nltk.sent_tokenize(texts)\n",
    "    for sentence in sentences:\n",
    "        words = nltk.word_tokenize(sentence)\n",
    "        tagged=nltk.pos_tag(words)\n",
    "        print(tagged)"
   ]
  },
  {
   "cell_type": "code",
   "execution_count": 5,
   "metadata": {},
   "outputs": [
    {
     "data": {
      "text/plain": [
       "['i', 'really', 'like', 'this', 'product', 'this', 'just', 'awesome']"
      ]
     },
     "execution_count": 5,
     "metadata": {},
     "output_type": "execute_result"
    }
   ],
   "source": [
    "from nltk.tokenize import TweetTokenizer\n",
    "text = 'i really like this product this just awesome'\n",
    "twtkn = TweetTokenizer()\n",
    "twtkn.tokenize(text)"
   ]
  },
  {
   "cell_type": "code",
   "execution_count": 7,
   "metadata": {},
   "outputs": [
    {
     "data": {
      "text/plain": [
       "str"
      ]
     },
     "execution_count": 7,
     "metadata": {},
     "output_type": "execute_result"
    }
   ],
   "source": [
    "from urllib import request\n",
    "url = \"http://www.gutenberg.org/files/2554/2554-0.txt\"\n",
    "response = request.urlopen(url)\n",
    "raw = response.read().decode('utf8')\n",
    "type(raw)"
   ]
  },
  {
   "cell_type": "code",
   "execution_count": 8,
   "metadata": {},
   "outputs": [
    {
     "name": "stdout",
     "output_type": "stream",
     "text": [
      "﻿The Project Gutenberg EBook of Crime and Punishme\n"
     ]
    }
   ],
   "source": [
    "print(raw[0:50])"
   ]
  },
  {
   "cell_type": "code",
   "execution_count": 9,
   "metadata": {},
   "outputs": [
    {
     "data": {
      "text/plain": [
       "list"
      ]
     },
     "execution_count": 9,
     "metadata": {},
     "output_type": "execute_result"
    }
   ],
   "source": [
    "from nltk.tokenize import word_tokenize\n",
    "tokens = word_tokenize(raw)\n",
    "type(tokens)"
   ]
  },
  {
   "cell_type": "code",
   "execution_count": null,
   "metadata": {},
   "outputs": [],
   "source": []
  }
 ],
 "metadata": {
  "kernelspec": {
   "display_name": "Python 3",
   "language": "python",
   "name": "python3"
  },
  "language_info": {
   "codemirror_mode": {
    "name": "ipython",
    "version": 3
   },
   "file_extension": ".py",
   "mimetype": "text/x-python",
   "name": "python",
   "nbconvert_exporter": "python",
   "pygments_lexer": "ipython3",
   "version": "3.8.3"
  }
 },
 "nbformat": 4,
 "nbformat_minor": 4
}
