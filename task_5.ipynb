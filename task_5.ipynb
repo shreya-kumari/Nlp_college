{
 "cells": [
  {
   "cell_type": "code",
   "execution_count": 1,
   "metadata": {},
   "outputs": [],
   "source": [
    "import spacy"
   ]
  },
  {
   "cell_type": "code",
   "execution_count": 2,
   "metadata": {},
   "outputs": [],
   "source": [
    "m = spacy.load('en_core_web_sm')"
   ]
  },
  {
   "cell_type": "code",
   "execution_count": 4,
   "metadata": {},
   "outputs": [],
   "source": [
    "example1 = \"Bill Gates is a technologist, business leader, and philanthropist. He grew up in Seattle, Washington, with an amazing and supportive family who encouraged his interest in computers at an early age. He dropped out of college to start Microsoft with his childhood friend Paul Allen. He married Melinda French in 1994 and they have three children. Today, Bill and Melinda Gates co-chair the charitable foundation bearing their names and are working together to give their wealth back to society.\""
   ]
  },
  {
   "cell_type": "code",
   "execution_count": 5,
   "metadata": {},
   "outputs": [],
   "source": [
    "example2 = \"Bill grew up in Seattle with his two sisters. His dad, William H. Gates II, is a Seattle attorney and one of the co-chairs of the Bill & Melinda Gates Foundation. His late mother, Mary Gates, was a schoolteacher, University of Washington regent, and chairwoman of United Way International.\""
   ]
  },
  {
   "cell_type": "code",
   "execution_count": 6,
   "metadata": {},
   "outputs": [
    {
     "name": "stdout",
     "output_type": "stream",
     "text": [
      "Bill Gates - PERSON\n",
      "Seattle - GPE\n",
      "Washington - GPE\n",
      "an early age - DATE\n",
      "Microsoft - ORG\n",
      "Paul Allen - PERSON\n",
      "Melinda French - PERSON\n",
      "1994 - DATE\n",
      "three - CARDINAL\n",
      "Bill - PERSON\n",
      "Melinda Gates - PERSON\n"
     ]
    }
   ],
   "source": [
    "doc = m(example1)\n",
    "for ent in doc.ents:\n",
    "    print(ent.text, \"-\", ent.label_)"
   ]
  },
  {
   "cell_type": "code",
   "execution_count": 7,
   "metadata": {},
   "outputs": [
    {
     "name": "stdout",
     "output_type": "stream",
     "text": [
      "Bill - PERSON\n",
      "Seattle - GPE\n",
      "two - CARDINAL\n",
      "William H. Gates II - PERSON\n",
      "Seattle - GPE\n",
      "one - CARDINAL\n",
      "the Bill & Melinda Gates Foundation - ORG\n",
      "Mary Gates - PERSON\n",
      "University of Washington - ORG\n",
      "United Way International - ORG\n"
     ]
    }
   ],
   "source": [
    "doc = m(example2)\n",
    "for ent in doc.ents:\n",
    "    print(ent.text, \"-\", ent.label_)"
   ]
  },
  {
   "cell_type": "code",
   "execution_count": 8,
   "metadata": {},
   "outputs": [],
   "source": [
    "woa = m(\"Smooth Criminal\")\n",
    "for ent in woa.ents:\n",
    "    print(ent.text, \"-\", ent.label_)"
   ]
  },
  {
   "cell_type": "code",
   "execution_count": 9,
   "metadata": {},
   "outputs": [
    {
     "name": "stdout",
     "output_type": "stream",
     "text": [
      "Tibetan Plateau - LOC\n",
      "Asia - LOC\n"
     ]
    }
   ],
   "source": [
    "fac = m(\"Tibetan Plateau and Asia\")\n",
    "for ent in fac.ents:\n",
    "    print(ent.text, \"-\", ent.label_)"
   ]
  },
  {
   "cell_type": "code",
   "execution_count": 10,
   "metadata": {},
   "outputs": [],
   "source": [
    "locs = [('Omnicom', 'IN', 'New York'),('DDB Needham', 'IN', 'New York'),('Kaplan Thaler Group', 'IN', 'New York'),('BBDO South', 'IN', 'Atlanta'), ('Georgia-Pacific', 'IN', 'Atlanta')]"
   ]
  },
  {
   "cell_type": "code",
   "execution_count": 12,
   "metadata": {},
   "outputs": [],
   "source": [
    "query = [e1 for (e1, rel, e2) in locs if e2=='Atlanta']"
   ]
  },
  {
   "cell_type": "code",
   "execution_count": 13,
   "metadata": {},
   "outputs": [],
   "source": [
    "z = \"Defence Technology, a peer reviewed journal, is published bimonthly and aims to become the best international academic exchange platform for the research related to defence technology. It publishes original research papers having direct bearing on defence, with a balanced coverage on analytical, experimental.\""
   ]
  },
  {
   "cell_type": "code",
   "execution_count": 15,
   "metadata": {},
   "outputs": [
    {
     "name": "stdout",
     "output_type": "stream",
     "text": [
      "Defence Technology - ORG\n"
     ]
    }
   ],
   "source": [
    "doc = m(z)\n",
    "for ent in doc.ents:\n",
    "    print(ent.text, \"-\", ent.label_)"
   ]
  },
  {
   "cell_type": "code",
   "execution_count": null,
   "metadata": {},
   "outputs": [],
   "source": []
  }
 ],
 "metadata": {
  "kernelspec": {
   "display_name": "Python 3",
   "language": "python",
   "name": "python3"
  },
  "language_info": {
   "codemirror_mode": {
    "name": "ipython",
    "version": 3
   },
   "file_extension": ".py",
   "mimetype": "text/x-python",
   "name": "python",
   "nbconvert_exporter": "python",
   "pygments_lexer": "ipython3",
   "version": "3.8.3"
  }
 },
 "nbformat": 4,
 "nbformat_minor": 4
}
